{
 "cells": [
  {
   "cell_type": "markdown",
   "metadata": {},
   "source": [
    "### Add primary imports"
   ]
  },
  {
   "cell_type": "code",
   "execution_count": 1,
   "metadata": {},
   "outputs": [],
   "source": [
    "from matplotlib import pyplot\n",
    "from keras.datasets import mnist\n",
    "import numpy as np\n",
    "from tensorflow.keras.utils import to_categorical, plot_model\n",
    "import math\n",
    "from sklearn.metrics import accuracy_score"
   ]
  },
  {
   "cell_type": "markdown",
   "metadata": {},
   "source": [
    "### Load data "
   ]
  },
  {
   "cell_type": "code",
   "execution_count": 2,
   "metadata": {},
   "outputs": [
    {
     "name": "stdout",
     "output_type": "stream",
     "text": [
      "X_train: (1000, 28, 28)\n",
      "Y_train: (1000,)\n",
      "X_test:  (100, 28, 28)\n",
      "Y_test:  (100,)\n"
     ]
    }
   ],
   "source": [
    "(x_train, y_train), (x_test, y_test) = mnist.load_data()\n",
    "\n",
    "\n",
    "\n",
    "batch_size = 1000\n",
    "batch_sample = int(batch_size/10)\n",
    "\n",
    "x_train = x_train[:batch_size]\n",
    "y_train = y_train[:batch_size]\n",
    "x_test = x_test[:batch_sample]\n",
    "y_test = y_test[:batch_sample]\n",
    "\n",
    "\n",
    "print('X_train: ' + str(x_train.shape))\n",
    "print('Y_train: ' + str(y_train.shape))\n",
    "print('X_test:  '  + str(x_test.shape))\n",
    "print('Y_test:  '  + str(y_test.shape))"
   ]
  },
  {
   "cell_type": "markdown",
   "metadata": {},
   "source": [
    "### Plotting data"
   ]
  },
  {
   "cell_type": "code",
   "execution_count": 3,
   "metadata": {},
   "outputs": [
    {
     "data": {
      "image/png": "[encoded data removed]",
      "text/plain": [
       "<Figure size 640x480 with 8 Axes>"
      ]
     },
     "metadata": {},
     "output_type": "display_data"
    }
   ],
   "source": [
    "for i in range(8):  \n",
    "    pyplot.subplot(240 + 1 + i)\n",
    "    pyplot.imshow(x_test[i], cmap=pyplot.get_cmap('gray'))\n",
    "    pyplot.text(0, -2, f'Label: {y_test[i]}', color='blue')\n",
    "pyplot.show()"
   ]
  },
  {
   "cell_type": "markdown",
   "metadata": {},
   "source": [
    "### Preprocessing for Digit Recognition\n",
    "\n",
    "preprocessing steps for digit recognition using deep learning.\n",
    "Discover these crucial steps for optimizing model training.\n"
   ]
  },
  {
   "cell_type": "code",
   "execution_count": 4,
   "metadata": {},
   "outputs": [],
   "source": [
    "# compute the number of labels\n",
    "num_labels = len(np.unique(y_train))\n",
    "\n",
    "# convert to one-hot vector\n",
    "y_train = to_categorical(y_train)\n",
    "y_test = to_categorical(y_test)\n",
    "\n",
    "# image dimensions (assumed square)\n",
    "image_size = x_train.shape[1]\n",
    "input_size = image_size * image_size\n",
    "\n",
    "# resize and normalize\n",
    "x_train = np.reshape(x_train, [-1, input_size])\n",
    "x_train = x_train.astype('float32') / 255\n",
    "x_test = np.reshape(x_test, [-1, input_size])\n",
    "x_test = x_test.astype('float32') / 255"
   ]
  },
  {
   "cell_type": "markdown",
   "metadata": {},
   "source": [
    "## Algorithem Implementation\n",
    "\n",
    "#### Neural Network Activation Functions\n",
    "This code segment presents two essential activation functions commonly used in neural networks:\n",
    "\n",
    "1. **Sigmoid Activation (`Sigmoid` class)**:\n",
    "   - `__call__`: Computes sigmoid of input `x`.\n",
    "   - `gradient`: Calculates gradient \\( \\sigma(x) \\cdot (1 - \\sigma(x)) \\).\n",
    "2. **Softmax Activation (`Softmax` class)**:\n",
    "   - `__call__`: Applies softmax to input vector.\n",
    "   - `gradient`: Computes softmax gradient.\n",
    "\n",
    "These functions empower neural networks to capture intricate patterns and produce accurate classifications.\n"
   ]
  },
  {
   "cell_type": "code",
   "execution_count": 5,
   "metadata": {},
   "outputs": [],
   "source": [
    "class Sigmoid():\n",
    "    def __call__(self, x):\n",
    "        return 1 / (1 + np.exp(-x))\n",
    "\n",
    "    def gradient(self, x):\n",
    "        return self.__call__(x) * (1 - self.__call__(x))\n",
    "    \n",
    "\n",
    "class Softmax():\n",
    "    def __call__(self, x):\n",
    "        e_x = np.exp(x - np.max(x, axis=-1, keepdims=True))\n",
    "        return e_x / np.sum(e_x, axis=-1, keepdims=True)\n",
    "\n",
    "    def gradient(self, x):\n",
    "        p = self.__call__(x)\n",
    "        return p * (1 - p)"
   ]
  },
  {
   "cell_type": "markdown",
   "metadata": {},
   "source": [
    "#### Cross-Entropy Loss & Metrics\n",
    "\n",
    "This code defines the `CrossEntropy` class, crucial for:\n",
    "\n",
    "1. **Loss Calculation (`loss` method)**:\n",
    "   - Computes cross-entropy loss with value clipping.\n",
    "   - Formula: \\( - y \\log(p) - (1 - y) \\log(1 - p) \\).\n",
    "2. **Accuracy Evaluation (`acc` method)**:\n",
    "   - Measures classification accuracy using `accuracy_score`.\n",
    "3. **Gradient Computation (`gradient` method)**:\n",
    "   - Computes loss gradient with value clipping.\n",
    "4. **Average Loss (`forward` method)**:\n",
    "   - Calculates average cross-entropy loss.\n",
    "\n",
    "These functions enhance precise loss assessment and model evaluation in classification tasks.\n"
   ]
  },
  {
   "cell_type": "code",
   "execution_count": 6,
   "metadata": {},
   "outputs": [],
   "source": [
    "class CrossEntropy():\n",
    "    def __init__(self): pass\n",
    "\n",
    "    def loss(self, y, p):\n",
    "        # Avoid division by zero\n",
    "        p = np.clip(p, 1e-15, 1 - 1e-15)\n",
    "        return - y * np.log(p) - (1 - y) * np.log(1 - p)\n",
    "\n",
    "    def acc(self, y, p):\n",
    "        return accuracy_score(np.argmax(y, axis=1), np.argmax(p, axis=1))\n",
    "\n",
    "    def gradient(self, y, p):\n",
    "        # Avoid division by zero\n",
    "        p = np.clip(p, 1e-15, 1 - 1e-15)\n",
    "        return - (y / p) + (1 - y) / (1 - p)\n",
    "        \n",
    "    def forward(self, y_true, y_pred):\n",
    "        # Avoid numerical instability by clipping predicted values\n",
    "        y_pred = np.clip(y_pred, 1e-15, 1 - 1e-15)\n",
    "\n",
    "        # Calculate cross-entropy loss\n",
    "        loss = - np.sum(y_true * np.log(y_pred))\n",
    "        \n",
    "        # Calculate the average loss\n",
    "        avg_loss = loss / len(y_true)  \n",
    "        \n",
    "        return avg_loss"
   ]
  },
  {
   "cell_type": "markdown",
   "metadata": {},
   "source": [
    "#### Multilayer Perceptron for Classification\n",
    "\n",
    "This code snippet implements a classification-oriented Multilayer Perceptron (MLP):\n",
    "\n",
    "- **Initialization**: Specifies hidden units, iterations, and learning rate.\n",
    "- **Weight Initialization**: Sets initial weights for layers.\n",
    "- **Training**: Conducts forward-backward passes, updating weights via gradients.\n",
    "- **Prediction**: Computes class probabilities using trained weights.\n",
    "\n",
    "This MLP empowers accurate classification by iteratively refining weight parameters.\n"
   ]
  },
  {
   "cell_type": "code",
   "execution_count": 7,
   "metadata": {},
   "outputs": [],
   "source": [
    "class MultilayerPerceptron():\n",
    "\n",
    "    def __init__(self, n_hidden, n_iterations=400, learning_rate=0.01):\n",
    "        self.n_hidden = n_hidden\n",
    "        self.n_iterations = n_iterations\n",
    "        self.learning_rate = learning_rate\n",
    "        self.hidden_activation = Sigmoid()\n",
    "        self.output_activation = Softmax()\n",
    "        self.loss = CrossEntropy()\n",
    "\n",
    "    def _initialize_weights(self, X, y):\n",
    "        \n",
    "        n_samples, n_features = X.shape\n",
    "        _, n_outputs = y.shape\n",
    "        \n",
    "        # Hidden layer\n",
    "        limit   = 1 / math.sqrt(n_features)\n",
    "        self.W  = np.random.uniform(-limit, limit, (n_features, self.n_hidden))\n",
    "        self.w0 = np.zeros((1, self.n_hidden))\n",
    "        \n",
    "        # Output layer\n",
    "        limit   = 1 / math.sqrt(self.n_hidden)\n",
    "        self.V  = np.random.uniform(-limit, limit, (self.n_hidden, n_outputs))\n",
    "        self.v0 = np.zeros((1, n_outputs))\n",
    "\n",
    "\n",
    "    def fit(self, X, y):\n",
    "\n",
    "        self._initialize_weights(X, y)\n",
    "\n",
    "        for i in range(self.n_iterations):\n",
    "\n",
    "            # ..............\n",
    "            #  Forward Pass\n",
    "            # ..............\n",
    "\n",
    "            # HIDDEN LAYER\n",
    "            hidden_input = X.dot(self.W) + self.w0\n",
    "            hidden_output = self.hidden_activation(hidden_input)\n",
    "            # OUTPUT LAYER\n",
    "            output_layer_input = hidden_output.dot(self.V) + self.v0\n",
    "            y_pred = self.output_activation(output_layer_input)\n",
    "            \n",
    "            ############################################################\n",
    "\n",
    "            # ...............\n",
    "            #  Backward Pass\n",
    "            # ...............\n",
    "\n",
    "            # OUTPUT LAYER\n",
    "            # Grad. with respect to input of output layer\n",
    "            grad_wrt_out_l_input = self.loss.gradient(y, y_pred) * self.output_activation.gradient(output_layer_input)\n",
    "            grad_v = hidden_output.T.dot(grad_wrt_out_l_input)\n",
    "            grad_v0 = np.sum(grad_wrt_out_l_input, axis=0, keepdims=True)\n",
    "            \n",
    "            # HIDDEN LAYER\n",
    "            # Grad. with respect to input of hidden layer\n",
    "            grad_wrt_hidden_l_input = grad_wrt_out_l_input.dot(self.V.T) * self.hidden_activation.gradient(hidden_input)\n",
    "            grad_w = X.T.dot(grad_wrt_hidden_l_input)\n",
    "            grad_w0 = np.sum(grad_wrt_hidden_l_input, axis=0, keepdims=True)\n",
    "            \n",
    "            ############################################################\n",
    "\n",
    "            # Update weights (by gradient descent)\n",
    "            # Move against the gradient to minimize loss\n",
    "            self.V  -= self.learning_rate * grad_v\n",
    "            self.v0 -= self.learning_rate * grad_v0\n",
    "            self.W  -= self.learning_rate * grad_w\n",
    "            self.w0 -= self.learning_rate * grad_w0\n",
    "            \n",
    "        self.loss_value = self.loss.forward(y, y_pred)\n",
    "        self.acc_value = self.loss.acc(y, y_pred)\n",
    "\n",
    "            \n",
    "    def predict(self, X):\n",
    "        hidden_input = X.dot(self.W) + self.w0\n",
    "        hidden_output = self.hidden_activation(hidden_input)\n",
    "        output_layer_input = hidden_output.dot(self.V) + self.v0\n",
    "        y_pred = self.output_activation(output_layer_input)\n",
    "        \n",
    "        return y_pred"
   ]
  },
  {
   "cell_type": "markdown",
   "metadata": {},
   "source": [
    "#### MLP Classification and Evaluation\n",
    "This code snippet showcases the process of MLP classification and evaluation."
   ]
  },
  {
   "cell_type": "code",
   "execution_count": 8,
   "metadata": {},
   "outputs": [
    {
     "name": "stdout",
     "output_type": "stream",
     "text": [
      "loss:           0.014906756931354848\n",
      "Train Accuracy: 0.999\n",
      "Test Accuracy:  0.92\n"
     ]
    }
   ],
   "source": [
    "clf = MultilayerPerceptron(n_hidden=16, n_iterations=400, learning_rate=0.004)\n",
    "clf.fit(x_train, y_train)\n",
    "y_pred = clf.predict(x_test)\n",
    "accuracy = clf.loss.acc(y_test, y_pred)\n",
    "print(\"loss:          \", clf.loss_value)\n",
    "print(\"Train Accuracy:\", clf.acc_value)\n",
    "print(\"Test Accuracy: \", accuracy)\n"
   ]
  },
  {
   "cell_type": "markdown",
   "metadata": {},
   "source": [
    "#### confusion matrix"
   ]
  },
  {
   "cell_type": "code",
   "execution_count": 9,
   "metadata": {},
   "outputs": [
    {
     "data": {
      "text/plain": [
       "<Figure size 1000x1000 with 0 Axes>"
      ]
     },
     "metadata": {},
     "output_type": "display_data"
    },
    {
     "data": {
      "image/png": "[encoded data removed]",
      "text/plain": [
       "<Figure size 640x480 with 2 Axes>"
      ]
     },
     "metadata": {},
     "output_type": "display_data"
    }
   ],
   "source": [
    "import matplotlib.pyplot as plt\n",
    "from sklearn.metrics import confusion_matrix, ConfusionMatrixDisplay\n",
    "\n",
    "# Convert y_pred to class labels using threshold as before\n",
    "threshold = 0.5\n",
    "y_pred_labels = np.argmax(y_pred, axis=1)\n",
    "\n",
    "# Make sure y_test is converted to the correct data type\n",
    "y_test_array = np.array(y_test)\n",
    "\n",
    "# If data type is \"multilabel-indicator\", convert to \"multiclass\" type\n",
    "if y_test_array.ndim > 1 and y_test_array.shape[1] > 1:\n",
    "    y_test_array = np.argmax(y_test_array, axis=1)\n",
    "\n",
    "# Calculate the matrix of errors\n",
    "cm = confusion_matrix(y_test_array, y_pred_labels)\n",
    "\n",
    "# Display the matrix of errors\n",
    "plt.figure(figsize=(10, 10))\n",
    "disp = ConfusionMatrixDisplay(confusion_matrix=cm, display_labels=range(10))\n",
    "disp.plot(cmap=plt.cm.Blues)\n",
    "plt.show()\n"
   ]
  }
 ],
 "metadata": {
  "kernelspec": {
   "display_name": "base",
   "language": "python",
   "name": "python3"
  },
  "language_info": {
   "codemirror_mode": {
    "name": "ipython",
    "version": 3
   },
   "file_extension": ".py",
   "mimetype": "text/x-python",
   "name": "python",
   "nbconvert_exporter": "python",
   "pygments_lexer": "ipython3",
   "version": "3.9.16"
  },
  "orig_nbformat": 4
 },
 "nbformat": 4,
 "nbformat_minor": 2
}
